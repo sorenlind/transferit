{
 "cells": [
  {
   "cell_type": "markdown",
   "metadata": {},
   "source": [
    "# API Example usage"
   ]
  },
  {
   "cell_type": "code",
   "execution_count": null,
   "metadata": {},
   "outputs": [],
   "source": [
    "import base64\n",
    "import json\n",
    "from pathlib import Path\n",
    "import random\n",
    "from PIL import Image\n",
    "import requests"
   ]
  },
  {
   "cell_type": "code",
   "execution_count": null,
   "metadata": {},
   "outputs": [],
   "source": [
    "URL = \"http://localhost:8501/v1/models/transferit:classify\"\n",
    "HEADERS = {\"content-type\": \"application/json\"}\n",
    "FILES_NEGATIVE = sorted(Path(\"../data/prepared/dev/negative/\").glob(\"*.jpg\"))\n",
    "FILES_POSITIVE = sorted(Path(\"../data/prepared/dev/positive/\").glob(\"*.jpg\"))\n",
    "random.seed(27)\n",
    "random.shuffle(FILES_NEGATIVE)\n",
    "random.shuffle(FILES_POSITIVE)\n",
    "NEGATIVE_EXAMPLE = FILES_NEGATIVE[0]\n",
    "POSITIVE_EXAMPLE = FILES_POSITIVE[0]"
   ]
  },
  {
   "cell_type": "code",
   "execution_count": null,
   "metadata": {},
   "outputs": [],
   "source": [
    "def predict(filename):\n",
    "    with open(filename, mode=\"rb\") as file:\n",
    "        img = file.read()\n",
    "    jpeg_bytes = base64.b64encode(img).decode('utf-8')\n",
    "\n",
    "    body = {\n",
    "        \"signature_name\": \"serving_default\",\n",
    "        \"examples\" : [{\n",
    "            \"x\": { \"b64\": jpeg_bytes},  \n",
    "         }]\n",
    "    }\n",
    "\n",
    "    json_response = requests.post(URL, data=json.dumps(body), headers=HEADERS)\n",
    "    predictions = json.loads(json_response.text)[\"results\"]\n",
    "    return predictions[0][0]"
   ]
  },
  {
   "cell_type": "markdown",
   "metadata": {},
   "source": [
    "## Negative example"
   ]
  },
  {
   "cell_type": "code",
   "execution_count": null,
   "metadata": {},
   "outputs": [],
   "source": [
    "Image.open(NEGATIVE_EXAMPLE)"
   ]
  },
  {
   "cell_type": "code",
   "execution_count": null,
   "metadata": {},
   "outputs": [],
   "source": [
    "predict(NEGATIVE_EXAMPLE)"
   ]
  },
  {
   "cell_type": "markdown",
   "metadata": {},
   "source": [
    "## Positive example"
   ]
  },
  {
   "cell_type": "code",
   "execution_count": null,
   "metadata": {},
   "outputs": [],
   "source": [
    "Image.open(POSITIVE_EXAMPLE)"
   ]
  },
  {
   "cell_type": "code",
   "execution_count": null,
   "metadata": {},
   "outputs": [],
   "source": [
    "predict(POSITIVE_EXAMPLE)"
   ]
  },
  {
   "cell_type": "code",
   "execution_count": null,
   "metadata": {},
   "outputs": [],
   "source": []
  }
 ],
 "metadata": {
  "kernelspec": {
   "display_name": "Python 3",
   "language": "python",
   "name": "python3"
  },
  "language_info": {
   "codemirror_mode": {
    "name": "ipython",
    "version": 3
   },
   "file_extension": ".py",
   "mimetype": "text/x-python",
   "name": "python",
   "nbconvert_exporter": "python",
   "pygments_lexer": "ipython3",
   "version": "3.8.9"
  }
 },
 "nbformat": 4,
 "nbformat_minor": 4
}
