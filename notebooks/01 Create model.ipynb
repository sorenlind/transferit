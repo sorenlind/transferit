{
 "cells": [
  {
   "cell_type": "markdown",
   "id": "c08196a9",
   "metadata": {},
   "source": [
    "# Create model"
   ]
  },
  {
   "cell_type": "code",
   "execution_count": null,
   "id": "16e1c0d0",
   "metadata": {},
   "outputs": [],
   "source": [
    "from pathlib import Path\n",
    "import tarfile\n",
    "import zipfile\n",
    "\n",
    "from transferit.preparation import create_class, split_data\n",
    "from transferit.training import train\n",
    "from transferit.wrapping import wrap_model"
   ]
  },
  {
   "cell_type": "code",
   "execution_count": null,
   "id": "671075bd",
   "metadata": {},
   "outputs": [],
   "source": [
    "IMAGE_SIZE = (256, 256)\n",
    "\n",
    "RAW_FOLDER = Path(\"../data/raw/\")\n",
    "CALTECH_TAR_FILE = RAW_FOLDER / \"256_ObjectCategories.tar\"\n",
    "CARDS_ZIP_FILE = RAW_FOLDER / \"cards.zip\"\n",
    "\n",
    "CALTECH_EXTRACTED_FOLDER = RAW_FOLDER / \"256_ObjectCategories\"\n",
    "CARDS_EXTRACTED_FOLDER = RAW_FOLDER / \"cards\"\n",
    "\n",
    "PREPARED_FOLDER = Path(\"../data/prepared/\")\n",
    "FULL_FOLDER = PREPARED_FOLDER / \"full\"\n",
    "FULL_FOLDER_NEGATIVE = FULL_FOLDER / \"negative\"\n",
    "FULL_FOLDER_POSITIVE = FULL_FOLDER / \"positive\"\n",
    "\n",
    "DEV_FOLDER = PREPARED_FOLDER / \"dev\"\n",
    "TRAIN_FOLDER = PREPARED_FOLDER / \"train\"\n",
    "\n",
    "NAKED_MODEL_FOLDER = Path(\"../models/naked\")\n",
    "NAKED_MODEL_FILE = NAKED_MODEL_FOLDER / \"naked_best_loss.hdf5\" \n",
    "\n",
    "WRAPPED_MODEL_FOLDER = Path(\"../models/wrapped/00000001\")"
   ]
  },
  {
   "cell_type": "markdown",
   "id": "c3e1a547",
   "metadata": {},
   "source": [
    "## Extract Caltech 256 data\n",
    "\n",
    "We use a subset of the Caltech 256 dataset for the negative class.\n",
    "\n",
    "Before running this notebook, download the `256_ObjectCategories.tar` file from the [Caltech 256 website](http://www.vision.caltech.edu/Image_Datasets/Caltech256/) and place it in `data/raw/` folder inside this repository.\n",
    "\n",
    "The code below extracts the full Caltech 256 dataset a sub folder of the `data/raw` folder. Later on, we will sample a subset of these to use when training and evaluating the model"
   ]
  },
  {
   "cell_type": "code",
   "execution_count": null,
   "id": "86f304fc",
   "metadata": {},
   "outputs": [],
   "source": [
    "with tarfile.open(CALTECH_TAR_FILE) as tar:\n",
    "    tar.extractall(RAW_FOLDER)"
   ]
  },
  {
   "cell_type": "markdown",
   "id": "b051fb3f",
   "metadata": {},
   "source": [
    "## Extract card photos\n",
    "\n",
    "We use photos of random *Magic: The Gathering* cards for the negative class.\n",
    "\n",
    "These photos are included in the repository in a zip file.\n",
    "\n",
    "The code below extracts all the card images to a sub folder of the `data/raw` folder. We will use all of them when training the model."
   ]
  },
  {
   "cell_type": "code",
   "execution_count": null,
   "id": "e1cb2e37",
   "metadata": {},
   "outputs": [],
   "source": [
    "with zipfile.ZipFile(CARDS_ZIP_FILE, \"r\") as zip_ref:\n",
    "    zip_ref.extractall(RAW_FOLDER)"
   ]
  },
  {
   "cell_type": "markdown",
   "id": "59909dc4",
   "metadata": {},
   "source": [
    "## Prepare images\n",
    "\n",
    "We will now prepare the images for training. This consists of the following:\n",
    "\n",
    "* Sample a number of images from the Caltech dataset, resize them and store them in a folder called `negative`\n",
    "* Resize the card photos and store them in a folder called `positive`"
   ]
  },
  {
   "cell_type": "code",
   "execution_count": null,
   "id": "231d38ae",
   "metadata": {},
   "outputs": [],
   "source": [
    "# Caltech photos\n",
    "FULL_FOLDER_NEGATIVE.mkdir(exist_ok=False, parents=True)\n",
    "create_class(CALTECH_EXTRACTED_FOLDER, FULL_FOLDER_NEGATIVE, IMAGE_SIZE, 3000, 42)"
   ]
  },
  {
   "cell_type": "code",
   "execution_count": null,
   "id": "9d6e497a",
   "metadata": {},
   "outputs": [],
   "source": [
    "# Card photos\n",
    "FULL_FOLDER_POSITIVE.mkdir(exist_ok=False, parents=True)\n",
    "create_class(CARDS_EXTRACTED_FOLDER, FULL_FOLDER_POSITIVE, IMAGE_SIZE)"
   ]
  },
  {
   "cell_type": "markdown",
   "id": "a0893888",
   "metadata": {},
   "source": [
    "## Create train / dev split"
   ]
  },
  {
   "cell_type": "code",
   "execution_count": null,
   "id": "e7bd4262",
   "metadata": {},
   "outputs": [],
   "source": [
    "split_data(FULL_FOLDER, TRAIN_FOLDER, DEV_FOLDER, 27, 0.1)"
   ]
  },
  {
   "cell_type": "markdown",
   "id": "e1a755ba",
   "metadata": {},
   "source": [
    "## Train"
   ]
  },
  {
   "cell_type": "code",
   "execution_count": null,
   "id": "f5e7e062",
   "metadata": {},
   "outputs": [],
   "source": [
    "train(TRAIN_FOLDER, DEV_FOLDER, NAKED_MODEL_FOLDER, IMAGE_SIZE)"
   ]
  },
  {
   "cell_type": "markdown",
   "id": "876014c1",
   "metadata": {},
   "source": [
    "## Wrap model for serving"
   ]
  },
  {
   "cell_type": "code",
   "execution_count": null,
   "id": "a700bf8e",
   "metadata": {},
   "outputs": [],
   "source": [
    "wrap_model(\n",
    "    model_file=NAKED_MODEL_FILE,\n",
    "    output_folder=WRAPPED_MODEL_FOLDER,\n",
    "    class_names=[\"negative\", \"positive\"],\n",
    "    top_k=None,\n",
    ")"
   ]
  },
  {
   "cell_type": "code",
   "execution_count": null,
   "id": "29792a02",
   "metadata": {},
   "outputs": [],
   "source": []
  }
 ],
 "metadata": {
  "kernelspec": {
   "display_name": "Python 3",
   "language": "python",
   "name": "python3"
  },
  "language_info": {
   "codemirror_mode": {
    "name": "ipython",
    "version": 3
   },
   "file_extension": ".py",
   "mimetype": "text/x-python",
   "name": "python",
   "nbconvert_exporter": "python",
   "pygments_lexer": "ipython3",
   "version": "3.8.9"
  }
 },
 "nbformat": 4,
 "nbformat_minor": 5
}
